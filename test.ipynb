{
 "cells": [
  {
   "cell_type": "markdown",
   "metadata": {},
   "source": [
    "## Simple Jupyter notebook authoring tools\n",
    "This is a demonstration of these simple lesson-construction tools. There is only one utility (sep.py) which separates a master notebook into assignment and solution notebooks.\n",
    "\n",
    "This utility is run from the command line with the provided makefile\n",
    "\n",
    "`>>> make`"
   ]
  },
  {
   "cell_type": "markdown",
   "metadata": {},
   "source": [
    "This section demonstrates the functionality of the tool.\n",
    "\n",
    "__Q1: What is your name?__\n",
    "\n",
    "<!-- task-begin -->\n",
    "The content between these HTML comments will only appear in the assignment document. Use this to\n",
    "write helpful notes to the students. This content will not appear in the solution.\n",
    "<!-- task-end -->\n",
    "\n",
    "<!-- solution-begin -->\n",
    "The content between these HTML comments will only appear in the solution document. Use this to\n",
    "hide assignment-revealing information.\n",
    "\n",
    "My name is Arthur, king of the Britons.\n",
    "<!-- solution-end -->"
   ]
  },
  {
   "cell_type": "code",
   "execution_count": null,
   "metadata": {},
   "outputs": [],
   "source": [
    "# Different comment syntax is used for code chunks\n",
    "\n",
    "x = 2\n",
    "# task-begin\n",
    "print(x)\n",
    "# task-end\n",
    "\n",
    "# solution-begin\n",
    "y = x ** 2\n",
    "# solution-end\n"
   ]
  }
 ],
 "metadata": {
  "kernelspec": {
   "display_name": "Python 3",
   "language": "python",
   "name": "python3"
  },
  "language_info": {
   "codemirror_mode": {
    "name": "ipython",
    "version": 3
   },
   "file_extension": ".py",
   "mimetype": "text/x-python",
   "name": "python",
   "nbconvert_exporter": "python",
   "pygments_lexer": "ipython3",
   "version": "3.7.3"
  }
 },
 "nbformat": 4,
 "nbformat_minor": 2
}
